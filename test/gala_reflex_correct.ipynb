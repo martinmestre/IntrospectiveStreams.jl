{
 "cells": [
  {
   "cell_type": "markdown",
   "metadata": {},
   "source": [
    "## Using Gala's reflex_correct with a frame loaded from Galstreams catalog"
   ]
  },
  {
   "cell_type": "markdown",
   "metadata": {},
   "source": [
    "### Printing versions"
   ]
  },
  {
   "cell_type": "code",
   "execution_count": 1,
   "metadata": {},
   "outputs": [
    {
     "name": "stdout",
     "output_type": "stream",
     "text": [
      "Python version: 3.10.15\n",
      "gala version: 1.9.2.dev5\n",
      "galstreams version: 1.0.2.dev294\n"
     ]
    }
   ],
   "source": [
    "from importlib.metadata import version\n",
    "print(\"Python version: 3.10.15\")\n",
    "print(\"gala version:\", version(\"gala\"))\n",
    "print(\"galstreams version:\", version(\"galstreams\"))"
   ]
  },
  {
   "cell_type": "markdown",
   "metadata": {},
   "source": [
    "### Importing packages"
   ]
  },
  {
   "cell_type": "code",
   "execution_count": 2,
   "metadata": {},
   "outputs": [],
   "source": [
    "import numpy as np\n",
    "import galstreams\n",
    "import gala.coordinates as galacoord\n",
    "import astropy.coordinates as coord\n",
    "import astropy.table as at\n",
    "import astropy.units as u"
   ]
  },
  {
   "cell_type": "markdown",
   "metadata": {},
   "source": [
    "### Usage"
   ]
  },
  {
   "cell_type": "markdown",
   "metadata": {},
   "source": [
    "#### Loading GreatCircleICRSFrame object associated to GD-1 from Galstreams"
   ]
  },
  {
   "cell_type": "code",
   "execution_count": 3,
   "metadata": {},
   "outputs": [
    {
     "name": "stdout",
     "output_type": "stream",
     "text": [
      "Initializing galstreams library from master_log... \n"
     ]
    }
   ],
   "source": [
    "mwsts = galstreams.MWStreams(verbose=False, implement_Off=True)\n",
    "stream = mwsts[\"GD-1-PB18\"]\n",
    "frame = stream.stream_frame"
   ]
  },
  {
   "cell_type": "markdown",
   "metadata": {},
   "source": [
    "#### Loading Gaia DR3 data, previously downloaded from CATS repo."
   ]
  },
  {
   "cell_type": "code",
   "execution_count": 4,
   "metadata": {},
   "outputs": [],
   "source": [
    "data_file = \"/home/mmestre/casa/work/Data/cats/Gaia/DR3/corr/GaiaDR3-GD-1-all_extincorr.fits\"\n",
    "df = at.Table.read(data_file)"
   ]
  },
  {
   "cell_type": "markdown",
   "metadata": {},
   "source": [
    "#### Build SkyCoord object in ICRS frame (with fake distances and radial velocities)"
   ]
  },
  {
   "cell_type": "code",
   "execution_count": 5,
   "metadata": {},
   "outputs": [],
   "source": [
    "stream_icrs = coord.SkyCoord(ra=df[\"ra\"]*u.deg, dec=df[\"dec\"]*u.deg, pm_ra_cosdec=df[\"pmra\"]*u.mas/u.yr,\n",
    "                           pm_dec=df[\"pmdec\"]*u.mas/u.yr,\n",
    "                           distance=np.ones(len(df))*u.kpc,\n",
    "                           radial_velocity=np.zeros(len(df))*u.km/u.s, frame=\"icrs\")"
   ]
  },
  {
   "cell_type": "markdown",
   "metadata": {},
   "source": [
    "#### Transform to GreatCircleICRSFrame (sc = self stream coordinates)"
   ]
  },
  {
   "cell_type": "code",
   "execution_count": 6,
   "metadata": {},
   "outputs": [],
   "source": [
    "stream_sc = stream_icrs.transform_to(frame)"
   ]
  },
  {
   "cell_type": "markdown",
   "metadata": {},
   "source": [
    "#### Define the Galactocentric frame "
   ]
  },
  {
   "cell_type": "code",
   "execution_count": 7,
   "metadata": {},
   "outputs": [],
   "source": [
    "v_sun = coord.CartesianDifferential([11.1, 220.0+12.24, 7.25]*u.km/u.s)\n",
    "r_sun = 8.122*u.kpc\n",
    "gc_frame = coord.Galactocentric(galcen_distance=r_sun, galcen_v_sun=v_sun, z_sun=0*u.pc)"
   ]
  },
  {
   "cell_type": "markdown",
   "metadata": {},
   "source": [
    "#### Perform the reflex correction. This first time passing the SkyCoord object in the ICRS frame. It works!"
   ]
  },
  {
   "cell_type": "code",
   "execution_count": 8,
   "metadata": {},
   "outputs": [
    {
     "data": {
      "text/plain": [
       "<SkyCoord (ICRS): (ra, dec, distance) in (deg, deg, kpc)\n",
       "    [(134.17858139,  0.69990361, 1.), (134.19378251,  0.72031546, 1.),\n",
       "     (134.19509489,  0.72372441, 1.), ..., (132.56727591, -2.07624214, 1.),\n",
       "     (132.55693954, -2.07754112, 1.), (132.5677011 , -2.06823086, 1.)]\n",
       " (pm_ra_cosdec, pm_dec, radial_velocity) in (mas / yr, mas / yr, km / s)\n",
       "    [( 1.34732154, 34.03479394, -155.12834339),\n",
       "     (-7.71759277, 39.8813443 , -155.0659438 ),\n",
       "     (-8.84169936, 28.1453817 , -155.05557198), ...,\n",
       "     (-0.88280418, 32.4029197 , -163.34635196),\n",
       "     (-3.8480967 , 37.54130603, -163.34973981),\n",
       "     (-8.61758972, 37.66049476, -163.32320988)]>"
      ]
     },
     "execution_count": 8,
     "metadata": {},
     "output_type": "execute_result"
    }
   ],
   "source": [
    "stream_icrs_reflexcorr = galacoord.reflex_correct(stream_icrs, gc_frame)\n",
    "stream_icrs_reflexcorr"
   ]
  },
  {
   "cell_type": "markdown",
   "metadata": {},
   "source": [
    "#### Perform de reflex correction. This time passing the SkyCoord object in the GreatCircleICRSFrame. \n",
    "#### Could not make it work:"
   ]
  },
  {
   "cell_type": "code",
   "execution_count": 126,
   "metadata": {},
   "outputs": [
    {
     "ename": "AttributeError",
     "evalue": "'GreatCircleICRSFrame' object has no attribute '_R'",
     "output_type": "error",
     "traceback": [
      "\u001b[0;31m---------------------------------------------------------------------------\u001b[0m",
      "\u001b[0;31mAttributeError\u001b[0m                            Traceback (most recent call last)",
      "Cell \u001b[0;32mIn[126], line 1\u001b[0m\n\u001b[0;32m----> 1\u001b[0m stream_sc_reflexcorr \u001b[38;5;241m=\u001b[39m \u001b[43mgalacoord\u001b[49m\u001b[38;5;241;43m.\u001b[39;49m\u001b[43mreflex_correct\u001b[49m\u001b[43m(\u001b[49m\u001b[43mstream_sc\u001b[49m\u001b[43m,\u001b[49m\u001b[43m \u001b[49m\u001b[43mgc_frame\u001b[49m\u001b[43m)\u001b[49m\n",
      "File \u001b[0;32m~/.conda/envs/cats/lib/python3.10/site-packages/gala/coordinates/reflex.py:39\u001b[0m, in \u001b[0;36mreflex_correct\u001b[0;34m(coords, galactocentric_frame)\u001b[0m\n\u001b[1;32m     35\u001b[0m     galactocentric_frame \u001b[38;5;241m=\u001b[39m coord\u001b[38;5;241m.\u001b[39mGalactocentric()\n\u001b[1;32m     37\u001b[0m v_sun \u001b[38;5;241m=\u001b[39m galactocentric_frame\u001b[38;5;241m.\u001b[39mgalcen_v_sun\n\u001b[0;32m---> 39\u001b[0m observed \u001b[38;5;241m=\u001b[39m \u001b[43mc\u001b[49m\u001b[38;5;241;43m.\u001b[39;49m\u001b[43mtransform_to\u001b[49m\u001b[43m(\u001b[49m\u001b[43mgalactocentric_frame\u001b[49m\u001b[43m)\u001b[49m\n\u001b[1;32m     40\u001b[0m rep \u001b[38;5;241m=\u001b[39m observed\u001b[38;5;241m.\u001b[39mcartesian\u001b[38;5;241m.\u001b[39mwithout_differentials()\n\u001b[1;32m     41\u001b[0m rep \u001b[38;5;241m=\u001b[39m rep\u001b[38;5;241m.\u001b[39mwith_differentials(observed\u001b[38;5;241m.\u001b[39mcartesian\u001b[38;5;241m.\u001b[39mdifferentials[\u001b[38;5;124m\"\u001b[39m\u001b[38;5;124ms\u001b[39m\u001b[38;5;124m\"\u001b[39m] \u001b[38;5;241m+\u001b[39m v_sun)\n",
      "File \u001b[0;32m~/.conda/envs/cats/lib/python3.10/site-packages/astropy/coordinates/sky_coordinate.py:722\u001b[0m, in \u001b[0;36mSkyCoord.transform_to\u001b[0;34m(self, frame, merge_attributes)\u001b[0m\n\u001b[1;32m    718\u001b[0m generic_frame \u001b[38;5;241m=\u001b[39m GenericFrame(frame_kwargs)\n\u001b[1;32m    720\u001b[0m \u001b[38;5;66;03m# Do the transformation, returning a coordinate frame of the desired\u001b[39;00m\n\u001b[1;32m    721\u001b[0m \u001b[38;5;66;03m# final type (not generic).\u001b[39;00m\n\u001b[0;32m--> 722\u001b[0m new_coord \u001b[38;5;241m=\u001b[39m \u001b[43mtrans\u001b[49m\u001b[43m(\u001b[49m\u001b[38;5;28;43mself\u001b[39;49m\u001b[38;5;241;43m.\u001b[39;49m\u001b[43mframe\u001b[49m\u001b[43m,\u001b[49m\u001b[43m \u001b[49m\u001b[43mgeneric_frame\u001b[49m\u001b[43m)\u001b[49m\n\u001b[1;32m    724\u001b[0m \u001b[38;5;66;03m# Finally make the new SkyCoord object from the `new_coord` and\u001b[39;00m\n\u001b[1;32m    725\u001b[0m \u001b[38;5;66;03m# remaining frame_kwargs that are not frame_attributes in `new_coord`.\u001b[39;00m\n\u001b[1;32m    726\u001b[0m \u001b[38;5;28;01mfor\u001b[39;00m attr \u001b[38;5;129;01min\u001b[39;00m \u001b[38;5;28mset\u001b[39m(new_coord\u001b[38;5;241m.\u001b[39mframe_attributes) \u001b[38;5;241m&\u001b[39m \u001b[38;5;28mset\u001b[39m(frame_kwargs\u001b[38;5;241m.\u001b[39mkeys()):\n",
      "File \u001b[0;32m~/.conda/envs/cats/lib/python3.10/site-packages/astropy/coordinates/transformations/composite.py:113\u001b[0m, in \u001b[0;36mCompositeTransform.__call__\u001b[0;34m(self, fromcoord, toframe)\u001b[0m\n\u001b[1;32m    110\u001b[0m             frattrs[inter_frame_attr_nm] \u001b[38;5;241m=\u001b[39m attr\n\u001b[1;32m    112\u001b[0m     curr_toframe \u001b[38;5;241m=\u001b[39m t\u001b[38;5;241m.\u001b[39mtosys(\u001b[38;5;241m*\u001b[39m\u001b[38;5;241m*\u001b[39mfrattrs)\n\u001b[0;32m--> 113\u001b[0m     curr_coord \u001b[38;5;241m=\u001b[39m \u001b[43mt\u001b[49m\u001b[43m(\u001b[49m\u001b[43mcurr_coord\u001b[49m\u001b[43m,\u001b[49m\u001b[43m \u001b[49m\u001b[43mcurr_toframe\u001b[49m\u001b[43m)\u001b[49m\n\u001b[1;32m    115\u001b[0m \u001b[38;5;66;03m# this is safe even in the case where self.transforms is empty, because\u001b[39;00m\n\u001b[1;32m    116\u001b[0m \u001b[38;5;66;03m# coordinate objects are immutable, so copying is not needed\u001b[39;00m\n\u001b[1;32m    117\u001b[0m \u001b[38;5;28;01mreturn\u001b[39;00m curr_coord\n",
      "File \u001b[0;32m~/.conda/envs/cats/lib/python3.10/site-packages/astropy/coordinates/transformations/affine.py:205\u001b[0m, in \u001b[0;36mBaseAffineTransform.__call__\u001b[0;34m(self, fromcoord, toframe)\u001b[0m\n\u001b[1;32m    204\u001b[0m \u001b[38;5;28;01mdef\u001b[39;00m \u001b[38;5;21m__call__\u001b[39m(\u001b[38;5;28mself\u001b[39m, fromcoord, toframe):\n\u001b[0;32m--> 205\u001b[0m     params \u001b[38;5;241m=\u001b[39m \u001b[38;5;28;43mself\u001b[39;49m\u001b[38;5;241;43m.\u001b[39;49m\u001b[43m_affine_params\u001b[49m\u001b[43m(\u001b[49m\u001b[43mfromcoord\u001b[49m\u001b[43m,\u001b[49m\u001b[43m \u001b[49m\u001b[43mtoframe\u001b[49m\u001b[43m)\u001b[49m\n\u001b[1;32m    206\u001b[0m     newrep \u001b[38;5;241m=\u001b[39m \u001b[38;5;28mself\u001b[39m\u001b[38;5;241m.\u001b[39m_apply_transform(fromcoord, \u001b[38;5;241m*\u001b[39mparams)\n\u001b[1;32m    207\u001b[0m     \u001b[38;5;28;01mreturn\u001b[39;00m toframe\u001b[38;5;241m.\u001b[39mrealize_frame(newrep)\n",
      "File \u001b[0;32m~/.conda/envs/cats/lib/python3.10/site-packages/astropy/coordinates/transformations/affine.py:353\u001b[0m, in \u001b[0;36mDynamicMatrixTransform._affine_params\u001b[0;34m(self, fromcoord, toframe)\u001b[0m\n\u001b[1;32m    352\u001b[0m \u001b[38;5;28;01mdef\u001b[39;00m \u001b[38;5;21m_affine_params\u001b[39m(\u001b[38;5;28mself\u001b[39m, fromcoord, toframe):\n\u001b[0;32m--> 353\u001b[0m     \u001b[38;5;28;01mreturn\u001b[39;00m \u001b[38;5;28;43mself\u001b[39;49m\u001b[38;5;241;43m.\u001b[39;49m\u001b[43mmatrix_func\u001b[49m\u001b[43m(\u001b[49m\u001b[43mfromcoord\u001b[49m\u001b[43m,\u001b[49m\u001b[43m \u001b[49m\u001b[43mtoframe\u001b[49m\u001b[43m)\u001b[49m, \u001b[38;5;28;01mNone\u001b[39;00m\n",
      "File \u001b[0;32m~/.conda/envs/cats/lib/python3.10/site-packages/gala/coordinates/greatcircle.py:242\u001b[0m, in \u001b[0;36mgreatcircle_to_reference\u001b[0;34m(greatcircle_coord, reference_frame)\u001b[0m\n\u001b[1;32m    239\u001b[0m \u001b[38;5;250m\u001b[39m\u001b[38;5;124;03m\"\"\"Convert a great circle frame coordinate to the reference frame\"\"\"\u001b[39;00m\n\u001b[1;32m    241\u001b[0m \u001b[38;5;66;03m# use the forward transform, but just invert it\u001b[39;00m\n\u001b[0;32m--> 242\u001b[0m R \u001b[38;5;241m=\u001b[39m \u001b[43mreference_to_greatcircle\u001b[49m\u001b[43m(\u001b[49m\u001b[43mreference_frame\u001b[49m\u001b[43m,\u001b[49m\u001b[43m \u001b[49m\u001b[43mgreatcircle_coord\u001b[49m\u001b[43m)\u001b[49m\n\u001b[1;32m    243\u001b[0m \u001b[38;5;66;03m# transpose is the inverse because R is a rotation matrix\u001b[39;00m\n\u001b[1;32m    244\u001b[0m \u001b[38;5;28;01mreturn\u001b[39;00m R\u001b[38;5;241m.\u001b[39mT\n",
      "File \u001b[0;32m~/.conda/envs/cats/lib/python3.10/site-packages/gala/coordinates/greatcircle.py:235\u001b[0m, in \u001b[0;36mreference_to_greatcircle\u001b[0;34m(reference_frame, greatcircle_frame)\u001b[0m\n\u001b[1;32m    233\u001b[0m \u001b[38;5;28;01mdef\u001b[39;00m \u001b[38;5;21mreference_to_greatcircle\u001b[39m(reference_frame, greatcircle_frame):\n\u001b[1;32m    234\u001b[0m \u001b[38;5;250m    \u001b[39m\u001b[38;5;124;03m\"\"\"Convert a reference coordinate to a great circle frame.\"\"\"\u001b[39;00m\n\u001b[0;32m--> 235\u001b[0m     \u001b[38;5;28;01mreturn\u001b[39;00m \u001b[43mgreatcircle_frame\u001b[49m\u001b[38;5;241;43m.\u001b[39;49m\u001b[43m_R\u001b[49m\n",
      "File \u001b[0;32m~/.conda/envs/cats/lib/python3.10/site-packages/astropy/coordinates/baseframe.py:1694\u001b[0m, in \u001b[0;36mBaseCoordinateFrame.__getattr__\u001b[0;34m(self, attr)\u001b[0m\n\u001b[1;32m   1688\u001b[0m \u001b[38;5;66;03m# attr == '_representation' is likely from the hasattr() test in the\u001b[39;00m\n\u001b[1;32m   1689\u001b[0m \u001b[38;5;66;03m# representation property which is used for\u001b[39;00m\n\u001b[1;32m   1690\u001b[0m \u001b[38;5;66;03m# self.representation_component_names.\u001b[39;00m\n\u001b[1;32m   1691\u001b[0m \u001b[38;5;66;03m#\u001b[39;00m\n\u001b[1;32m   1692\u001b[0m \u001b[38;5;66;03m# Prevent infinite recursion here.\u001b[39;00m\n\u001b[1;32m   1693\u001b[0m \u001b[38;5;28;01mif\u001b[39;00m attr\u001b[38;5;241m.\u001b[39mstartswith(\u001b[38;5;124m\"\u001b[39m\u001b[38;5;124m_\u001b[39m\u001b[38;5;124m\"\u001b[39m):\n\u001b[0;32m-> 1694\u001b[0m     \u001b[38;5;28;01mreturn\u001b[39;00m \u001b[38;5;28;43mself\u001b[39;49m\u001b[38;5;241;43m.\u001b[39;49m\u001b[38;5;21;43m__getattribute__\u001b[39;49m\u001b[43m(\u001b[49m\u001b[43mattr\u001b[49m\u001b[43m)\u001b[49m  \u001b[38;5;66;03m# Raise AttributeError.\u001b[39;00m\n\u001b[1;32m   1696\u001b[0m repr_names \u001b[38;5;241m=\u001b[39m \u001b[38;5;28mself\u001b[39m\u001b[38;5;241m.\u001b[39mrepresentation_component_names\n\u001b[1;32m   1697\u001b[0m \u001b[38;5;28;01mif\u001b[39;00m attr \u001b[38;5;129;01min\u001b[39;00m repr_names:\n",
      "\u001b[0;31mAttributeError\u001b[0m: 'GreatCircleICRSFrame' object has no attribute '_R'"
     ]
    }
   ],
   "source": [
    "stream_sc_reflexcorr = galacoord.reflex_correct(stream_sc, gc_frame)"
   ]
  },
  {
   "cell_type": "code",
   "execution_count": 14,
   "metadata": {},
   "outputs": [
    {
     "data": {
      "text/plain": [
       "<SkyCoord (GreatCircleICRSFrame: pole=<ICRS Coordinate: (ra, dec) in deg\n",
       "    (34.5987, 29.7331)>, origin=<ICRS Coordinate: (ra, dec) in deg\n",
       "    (200.48591244, 59.5048423)>, priority=origin): (phi1, phi2, distance) in (deg, deg, kpc)\n",
       "    [(-77.49584072, -7.95776449, 1.), (-77.47030899, -7.96064744, 1.),\n",
       "     (-77.46666724, -7.96006863, 1.), ..., (-80.73673826, -7.94763181, 1.),\n",
       "     (-80.74305056, -7.93930694, 1.), (-80.72950184, -7.94402681, 1.)]\n",
       " (pm_phi1_cosphi2, pm_phi2, radial_velocity) in (mas / yr, mas / yr, km / s)\n",
       "    [(30.10222369, 15.93858849, -155.12834339),\n",
       "     (30.5998157 , 26.7158032 , -155.0659438 ),\n",
       "     (19.88858682, 21.78949915, -155.05557198), ...,\n",
       "     (27.69757559, 16.83962156, -163.34635196),\n",
       "     (30.68853319, 21.96295602, -163.34973981),\n",
       "     (28.42553412, 26.16418789, -163.32320988)]>"
      ]
     },
     "execution_count": 14,
     "metadata": {},
     "output_type": "execute_result"
    }
   ],
   "source": [
    "stream_icrs_reflexcorr.transform_to(frame)"
   ]
  },
  {
   "cell_type": "markdown",
   "metadata": {},
   "source": [
    "#### Once the previous cell is corrected, this next cell is to check the correctness of the result."
   ]
  },
  {
   "cell_type": "code",
   "execution_count": null,
   "metadata": {},
   "outputs": [],
   "source": [
    "error_phi1 = stream_icrs_reflexcorr.transform_to(frame).pm_phi1_cosphi2.value - stream_sc_reflexcorr.pm_phi1_cosphi2.value\n",
    "error_phi2 = stream_icrs_reflexcorr.transform_to(frame).pm_phi2.value - stream_sc_reflexcorr.pm_phi2.value\n",
    "print(error_phi1.max(), error_phi2.max())"
   ]
  },
  {
   "cell_type": "markdown",
   "metadata": {},
   "source": [
    "#### A hack that strangely worked in Julia: instead of using reflex_correct(), run each command inside reflex_correct step by step. \n",
    "#### Now using the SkyCoords object in the GreatCircle frame that caused problem previously. It does not work either."
   ]
  },
  {
   "cell_type": "code",
   "execution_count": 129,
   "metadata": {},
   "outputs": [
    {
     "ename": "AttributeError",
     "evalue": "'GreatCircleICRSFrame' object has no attribute '_R'",
     "output_type": "error",
     "traceback": [
      "\u001b[0;31m---------------------------------------------------------------------------\u001b[0m",
      "\u001b[0;31mAttributeError\u001b[0m                            Traceback (most recent call last)",
      "Cell \u001b[0;32mIn[129], line 1\u001b[0m\n\u001b[0;32m----> 1\u001b[0m observed \u001b[38;5;241m=\u001b[39m \u001b[43mstream_sc\u001b[49m\u001b[38;5;241;43m.\u001b[39;49m\u001b[43mtransform_to\u001b[49m\u001b[43m(\u001b[49m\u001b[43mgc_frame\u001b[49m\u001b[43m)\u001b[49m   \u001b[38;5;66;03m#This is the line that has the problem\u001b[39;00m\n\u001b[1;32m      2\u001b[0m \u001b[38;5;66;03m# rep = observed.cartesian.without_differentials()\u001b[39;00m\n\u001b[1;32m      3\u001b[0m \u001b[38;5;66;03m# rep = rep.with_differentials(observed.cartesian.differentials[\"s\"] + v_sun)\u001b[39;00m\n\u001b[1;32m      4\u001b[0m \u001b[38;5;66;03m# stream_sc_reflexcorr_steps = gc_frame.realize_frame(rep).transform_to(frame)\u001b[39;00m\n",
      "File \u001b[0;32m~/.conda/envs/cats/lib/python3.10/site-packages/astropy/coordinates/sky_coordinate.py:722\u001b[0m, in \u001b[0;36mSkyCoord.transform_to\u001b[0;34m(self, frame, merge_attributes)\u001b[0m\n\u001b[1;32m    718\u001b[0m generic_frame \u001b[38;5;241m=\u001b[39m GenericFrame(frame_kwargs)\n\u001b[1;32m    720\u001b[0m \u001b[38;5;66;03m# Do the transformation, returning a coordinate frame of the desired\u001b[39;00m\n\u001b[1;32m    721\u001b[0m \u001b[38;5;66;03m# final type (not generic).\u001b[39;00m\n\u001b[0;32m--> 722\u001b[0m new_coord \u001b[38;5;241m=\u001b[39m \u001b[43mtrans\u001b[49m\u001b[43m(\u001b[49m\u001b[38;5;28;43mself\u001b[39;49m\u001b[38;5;241;43m.\u001b[39;49m\u001b[43mframe\u001b[49m\u001b[43m,\u001b[49m\u001b[43m \u001b[49m\u001b[43mgeneric_frame\u001b[49m\u001b[43m)\u001b[49m\n\u001b[1;32m    724\u001b[0m \u001b[38;5;66;03m# Finally make the new SkyCoord object from the `new_coord` and\u001b[39;00m\n\u001b[1;32m    725\u001b[0m \u001b[38;5;66;03m# remaining frame_kwargs that are not frame_attributes in `new_coord`.\u001b[39;00m\n\u001b[1;32m    726\u001b[0m \u001b[38;5;28;01mfor\u001b[39;00m attr \u001b[38;5;129;01min\u001b[39;00m \u001b[38;5;28mset\u001b[39m(new_coord\u001b[38;5;241m.\u001b[39mframe_attributes) \u001b[38;5;241m&\u001b[39m \u001b[38;5;28mset\u001b[39m(frame_kwargs\u001b[38;5;241m.\u001b[39mkeys()):\n",
      "File \u001b[0;32m~/.conda/envs/cats/lib/python3.10/site-packages/astropy/coordinates/transformations/composite.py:113\u001b[0m, in \u001b[0;36mCompositeTransform.__call__\u001b[0;34m(self, fromcoord, toframe)\u001b[0m\n\u001b[1;32m    110\u001b[0m             frattrs[inter_frame_attr_nm] \u001b[38;5;241m=\u001b[39m attr\n\u001b[1;32m    112\u001b[0m     curr_toframe \u001b[38;5;241m=\u001b[39m t\u001b[38;5;241m.\u001b[39mtosys(\u001b[38;5;241m*\u001b[39m\u001b[38;5;241m*\u001b[39mfrattrs)\n\u001b[0;32m--> 113\u001b[0m     curr_coord \u001b[38;5;241m=\u001b[39m \u001b[43mt\u001b[49m\u001b[43m(\u001b[49m\u001b[43mcurr_coord\u001b[49m\u001b[43m,\u001b[49m\u001b[43m \u001b[49m\u001b[43mcurr_toframe\u001b[49m\u001b[43m)\u001b[49m\n\u001b[1;32m    115\u001b[0m \u001b[38;5;66;03m# this is safe even in the case where self.transforms is empty, because\u001b[39;00m\n\u001b[1;32m    116\u001b[0m \u001b[38;5;66;03m# coordinate objects are immutable, so copying is not needed\u001b[39;00m\n\u001b[1;32m    117\u001b[0m \u001b[38;5;28;01mreturn\u001b[39;00m curr_coord\n",
      "File \u001b[0;32m~/.conda/envs/cats/lib/python3.10/site-packages/astropy/coordinates/transformations/affine.py:205\u001b[0m, in \u001b[0;36mBaseAffineTransform.__call__\u001b[0;34m(self, fromcoord, toframe)\u001b[0m\n\u001b[1;32m    204\u001b[0m \u001b[38;5;28;01mdef\u001b[39;00m \u001b[38;5;21m__call__\u001b[39m(\u001b[38;5;28mself\u001b[39m, fromcoord, toframe):\n\u001b[0;32m--> 205\u001b[0m     params \u001b[38;5;241m=\u001b[39m \u001b[38;5;28;43mself\u001b[39;49m\u001b[38;5;241;43m.\u001b[39;49m\u001b[43m_affine_params\u001b[49m\u001b[43m(\u001b[49m\u001b[43mfromcoord\u001b[49m\u001b[43m,\u001b[49m\u001b[43m \u001b[49m\u001b[43mtoframe\u001b[49m\u001b[43m)\u001b[49m\n\u001b[1;32m    206\u001b[0m     newrep \u001b[38;5;241m=\u001b[39m \u001b[38;5;28mself\u001b[39m\u001b[38;5;241m.\u001b[39m_apply_transform(fromcoord, \u001b[38;5;241m*\u001b[39mparams)\n\u001b[1;32m    207\u001b[0m     \u001b[38;5;28;01mreturn\u001b[39;00m toframe\u001b[38;5;241m.\u001b[39mrealize_frame(newrep)\n",
      "File \u001b[0;32m~/.conda/envs/cats/lib/python3.10/site-packages/astropy/coordinates/transformations/affine.py:353\u001b[0m, in \u001b[0;36mDynamicMatrixTransform._affine_params\u001b[0;34m(self, fromcoord, toframe)\u001b[0m\n\u001b[1;32m    352\u001b[0m \u001b[38;5;28;01mdef\u001b[39;00m \u001b[38;5;21m_affine_params\u001b[39m(\u001b[38;5;28mself\u001b[39m, fromcoord, toframe):\n\u001b[0;32m--> 353\u001b[0m     \u001b[38;5;28;01mreturn\u001b[39;00m \u001b[38;5;28;43mself\u001b[39;49m\u001b[38;5;241;43m.\u001b[39;49m\u001b[43mmatrix_func\u001b[49m\u001b[43m(\u001b[49m\u001b[43mfromcoord\u001b[49m\u001b[43m,\u001b[49m\u001b[43m \u001b[49m\u001b[43mtoframe\u001b[49m\u001b[43m)\u001b[49m, \u001b[38;5;28;01mNone\u001b[39;00m\n",
      "File \u001b[0;32m~/.conda/envs/cats/lib/python3.10/site-packages/gala/coordinates/greatcircle.py:242\u001b[0m, in \u001b[0;36mgreatcircle_to_reference\u001b[0;34m(greatcircle_coord, reference_frame)\u001b[0m\n\u001b[1;32m    239\u001b[0m \u001b[38;5;250m\u001b[39m\u001b[38;5;124;03m\"\"\"Convert a great circle frame coordinate to the reference frame\"\"\"\u001b[39;00m\n\u001b[1;32m    241\u001b[0m \u001b[38;5;66;03m# use the forward transform, but just invert it\u001b[39;00m\n\u001b[0;32m--> 242\u001b[0m R \u001b[38;5;241m=\u001b[39m \u001b[43mreference_to_greatcircle\u001b[49m\u001b[43m(\u001b[49m\u001b[43mreference_frame\u001b[49m\u001b[43m,\u001b[49m\u001b[43m \u001b[49m\u001b[43mgreatcircle_coord\u001b[49m\u001b[43m)\u001b[49m\n\u001b[1;32m    243\u001b[0m \u001b[38;5;66;03m# transpose is the inverse because R is a rotation matrix\u001b[39;00m\n\u001b[1;32m    244\u001b[0m \u001b[38;5;28;01mreturn\u001b[39;00m R\u001b[38;5;241m.\u001b[39mT\n",
      "File \u001b[0;32m~/.conda/envs/cats/lib/python3.10/site-packages/gala/coordinates/greatcircle.py:235\u001b[0m, in \u001b[0;36mreference_to_greatcircle\u001b[0;34m(reference_frame, greatcircle_frame)\u001b[0m\n\u001b[1;32m    233\u001b[0m \u001b[38;5;28;01mdef\u001b[39;00m \u001b[38;5;21mreference_to_greatcircle\u001b[39m(reference_frame, greatcircle_frame):\n\u001b[1;32m    234\u001b[0m \u001b[38;5;250m    \u001b[39m\u001b[38;5;124;03m\"\"\"Convert a reference coordinate to a great circle frame.\"\"\"\u001b[39;00m\n\u001b[0;32m--> 235\u001b[0m     \u001b[38;5;28;01mreturn\u001b[39;00m \u001b[43mgreatcircle_frame\u001b[49m\u001b[38;5;241;43m.\u001b[39;49m\u001b[43m_R\u001b[49m\n",
      "File \u001b[0;32m~/.conda/envs/cats/lib/python3.10/site-packages/astropy/coordinates/baseframe.py:1694\u001b[0m, in \u001b[0;36mBaseCoordinateFrame.__getattr__\u001b[0;34m(self, attr)\u001b[0m\n\u001b[1;32m   1688\u001b[0m \u001b[38;5;66;03m# attr == '_representation' is likely from the hasattr() test in the\u001b[39;00m\n\u001b[1;32m   1689\u001b[0m \u001b[38;5;66;03m# representation property which is used for\u001b[39;00m\n\u001b[1;32m   1690\u001b[0m \u001b[38;5;66;03m# self.representation_component_names.\u001b[39;00m\n\u001b[1;32m   1691\u001b[0m \u001b[38;5;66;03m#\u001b[39;00m\n\u001b[1;32m   1692\u001b[0m \u001b[38;5;66;03m# Prevent infinite recursion here.\u001b[39;00m\n\u001b[1;32m   1693\u001b[0m \u001b[38;5;28;01mif\u001b[39;00m attr\u001b[38;5;241m.\u001b[39mstartswith(\u001b[38;5;124m\"\u001b[39m\u001b[38;5;124m_\u001b[39m\u001b[38;5;124m\"\u001b[39m):\n\u001b[0;32m-> 1694\u001b[0m     \u001b[38;5;28;01mreturn\u001b[39;00m \u001b[38;5;28;43mself\u001b[39;49m\u001b[38;5;241;43m.\u001b[39;49m\u001b[38;5;21;43m__getattribute__\u001b[39;49m\u001b[43m(\u001b[49m\u001b[43mattr\u001b[49m\u001b[43m)\u001b[49m  \u001b[38;5;66;03m# Raise AttributeError.\u001b[39;00m\n\u001b[1;32m   1696\u001b[0m repr_names \u001b[38;5;241m=\u001b[39m \u001b[38;5;28mself\u001b[39m\u001b[38;5;241m.\u001b[39mrepresentation_component_names\n\u001b[1;32m   1697\u001b[0m \u001b[38;5;28;01mif\u001b[39;00m attr \u001b[38;5;129;01min\u001b[39;00m repr_names:\n",
      "\u001b[0;31mAttributeError\u001b[0m: 'GreatCircleICRSFrame' object has no attribute '_R'"
     ]
    }
   ],
   "source": [
    "observed = stream_sc.transform_to(gc_frame)   #This is the line that has the problem\n",
    "# rep = observed.cartesian.without_differentials()\n",
    "# rep = rep.with_differentials(observed.cartesian.differentials[\"s\"] + v_sun)\n",
    "# stream_sc_reflexcorr_steps = gc_frame.realize_frame(rep).transform_to(frame)"
   ]
  },
  {
   "cell_type": "markdown",
   "metadata": {},
   "source": [
    "#### To check that the previous hack works, not yet:"
   ]
  },
  {
   "cell_type": "code",
   "execution_count": null,
   "metadata": {},
   "outputs": [],
   "source": [
    "error_phi1 = stream_icrs_reflexcorr.transform_to(frame).pm_phi1_cosphi2.value - stream_sc_reflexcorr_steps.pm_phi1_cosphi2.value\n",
    "error_phi2 = stream_icrs_reflexcorr.transform_to(frame).pm_phi2.value - stream_sc_reflexcorr_steps.pm_phi2.value\n",
    "print( \"errors =\", error_phi1.max(), error_phi2.max())"
   ]
  }
 ],
 "metadata": {
  "kernelspec": {
   "display_name": "cats",
   "language": "python",
   "name": "python3"
  },
  "language_info": {
   "codemirror_mode": {
    "name": "ipython",
    "version": 3
   },
   "file_extension": ".py",
   "mimetype": "text/x-python",
   "name": "python",
   "nbconvert_exporter": "python",
   "pygments_lexer": "ipython3",
   "version": "3.10.15"
  }
 },
 "nbformat": 4,
 "nbformat_minor": 2
}
